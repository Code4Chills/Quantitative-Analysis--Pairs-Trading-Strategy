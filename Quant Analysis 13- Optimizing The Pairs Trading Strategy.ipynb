{
 "cells": [
  {
   "cell_type": "code",
   "execution_count": 1,
   "id": "f66a22a3",
   "metadata": {},
   "outputs": [
    {
     "data": {
      "text/plain": [
       "<torch._C.Generator at 0x1f410541b10>"
      ]
     },
     "execution_count": 1,
     "metadata": {},
     "output_type": "execute_result"
    }
   ],
   "source": [
    "import os\n",
    "import math\n",
    "import torch \n",
    "import random\n",
    "import numpy as np\n",
    "import matplotlib.pyplot as plt\n",
    "import torch.nn as nn\n",
    "import pandas as pd\n",
    "import yfinance as yf\n",
    "from statsmodels.tsa.stattools import adfuller\n",
    "from statsmodels.regression.linear_model import OLS\n",
    "import statsmodels.api as sm\n",
    "%matplotlib inline\n",
    "\n",
    "SEED=1\n",
    "random.seed(SEED)\n",
    "np.random.seed(SEED)\n",
    "torch.manual_seed(SEED)"
   ]
  },
  {
   "cell_type": "code",
   "execution_count": 2,
   "id": "fa653508",
   "metadata": {},
   "outputs": [],
   "source": [
    "class QTS_OPTIMIZER(nn.Module):\n",
    "    def __init__(self,ticker_pair,start_date,end_date,riskfree_rate=0.04):\n",
    "        super(QTS_OPTIMIZER,self).__init__()\n",
    "        self.ticker_pair=ticker_pair\n",
    "        self.start_date=start_date\n",
    "        self.end_date=end_date\n",
    "        self.riskfree_rate=riskfree_rate\n",
    "        self.stock=self.get_stock_data()\n",
    "        \n",
    "    def get_stock_data(self):\n",
    "        print('=====DOWNLOADING STOCK DATA=====')\n",
    "        df= yf.download(self.ticker_pair,start=self.start_date,end=self.end_date)['Adj Close']\n",
    "        print('====DOWNLOAD COMPLETE====')\n",
    "        return pd.DataFrame(df)\n",
    "    \n",
    "    def forward(self,entry_threshold,exit_threshold,window_size=10):\n",
    "        #add sma columns\n",
    "        stock_df=self.stock.copy()\n",
    "        \n",
    "        #Calculate the spread for GOOG and MSFT\n",
    "        Y= stock_df[self.ticker_pair[0]]\n",
    "        X=stock_df[self.ticker_pair[1]]\n",
    "        \n",
    "        #estimate linear regression coefficients\n",
    "        X_with_constant=sm.add_constant(X)\n",
    "        model=OLS(Y, X_with_constant).fit()\n",
    "        \n",
    "        #obtain the spread as the residuals\n",
    "        spread=Y- model.predict()\n",
    "        \n",
    "        #calculate the rolling mean and sd\n",
    "        spread_mean=spread.rolling(window=window_size).mean()\n",
    "        spread_std=spread.rolling(window=window_size).std()\n",
    "        zscore=(spread-spread_mean)/spread_std\n",
    "        \n",
    "        #remove initial days with NA\n",
    "        first_valid_idx=zscore.first_valid_index()\n",
    "        zscore=zscore[first_valid_idx:]\n",
    "        \n",
    "        #initialise the daily positions to be zeros\n",
    "        stock1_position=pd.Series(data=0, index=zscore.index)\n",
    "        stock2_position=pd.Series(data=0, index=zscore.index)\n",
    "        \n",
    "        #generate daily entry and exit signals for each stock\n",
    "        for i in range(1,len(zscore)):\n",
    "            #zscore < -entry_threshold and no existing long position for stock1\n",
    "            if zscore[i]< -entry_threshold and stock1_position[i-1]==0:\n",
    "                stock1_position[i]=1 #long stock1\n",
    "                stock2_position[i]= -1 #short stock2\n",
    "            #zscore > entry_threshold and no existing short position for stock2\n",
    "            elif zscore[i]>entry_threshold and stock2_position[i-1]==0:\n",
    "                stock1_position[i]= -1 #short stock 1\n",
    "                stock2_position[i]=1 #long stock 2\n",
    "            \n",
    "            #-exit_threshold<zscore<exit_threshold:\n",
    "            elif abs(zscore[i])<exit_threshold:\n",
    "                stock1_position[i]=0 # exit existing position\n",
    "                stock2_position[i]=0\n",
    "            \n",
    "            #-entry_threshold<zscore<-exit_threshold or exit_threshold<zscore<entry_threshold\n",
    "            else:\n",
    "                #maintain existing positions\n",
    "                stock1_position[i]=stock1_position[i-1]\n",
    "                stock2_position[i]=stock2_position[i-1]\n",
    "                \n",
    "        #calculate the returns of each stock\n",
    "        stock1_returns=(Y[first_valid_idx:].pct_change()*stock1_position.shift(1)).fillna(0)\n",
    "        stock2_returns=(X[first_valid_idx:].pct_change()*stock2_position.shift(1)).fillna(0)\n",
    "        \n",
    "        #calculate total returns\n",
    "        total_returns=stock1_returns + stock2_returns\n",
    "        #calculate annualised return\n",
    "        annualised_return=(1+total_returns).prod()**(252/Y[first_valid_idx:].shape[0])-1\n",
    "        \n",
    "        #annualised volatility\n",
    "        annualised_volatility=total_returns.std()*(252**0.5)\n",
    "        if annualised_volatility==0:\n",
    "            annualised_volatility=100\n",
    "        \n",
    "        #calculate Sharpe Ratio\n",
    "        sharpe_ratio=(annualised_return-self.riskfree_rate)/annualised_volatility\n",
    "        \n",
    "        return sharpe_ratio\n",
    "        "
   ]
  },
  {
   "cell_type": "code",
   "execution_count": 3,
   "id": "456fbc73",
   "metadata": {},
   "outputs": [
    {
     "name": "stdout",
     "output_type": "stream",
     "text": [
      "=====DOWNLOADING STOCK DATA=====\n",
      "[*********************100%%**********************]  2 of 2 completed\n",
      "====DOWNLOAD COMPLETE====\n"
     ]
    }
   ],
   "source": [
    "qts=QTS_OPTIMIZER(ticker_pair=['GOOGL','MSFT'],start_date='2022-01-01',end_date='2023-01-01')"
   ]
  },
  {
   "cell_type": "code",
   "execution_count": 4,
   "id": "c361f949",
   "metadata": {
    "scrolled": false
   },
   "outputs": [
    {
     "data": {
      "text/html": [
       "<div>\n",
       "<style scoped>\n",
       "    .dataframe tbody tr th:only-of-type {\n",
       "        vertical-align: middle;\n",
       "    }\n",
       "\n",
       "    .dataframe tbody tr th {\n",
       "        vertical-align: top;\n",
       "    }\n",
       "\n",
       "    .dataframe thead th {\n",
       "        text-align: right;\n",
       "    }\n",
       "</style>\n",
       "<table border=\"1\" class=\"dataframe\">\n",
       "  <thead>\n",
       "    <tr style=\"text-align: right;\">\n",
       "      <th></th>\n",
       "      <th>GOOGL</th>\n",
       "      <th>MSFT</th>\n",
       "    </tr>\n",
       "    <tr>\n",
       "      <th>Date</th>\n",
       "      <th></th>\n",
       "      <th></th>\n",
       "    </tr>\n",
       "  </thead>\n",
       "  <tbody>\n",
       "    <tr>\n",
       "      <th>2022-01-03</th>\n",
       "      <td>144.991501</td>\n",
       "      <td>329.394897</td>\n",
       "    </tr>\n",
       "    <tr>\n",
       "      <th>2022-01-04</th>\n",
       "      <td>144.399506</td>\n",
       "      <td>323.746735</td>\n",
       "    </tr>\n",
       "    <tr>\n",
       "      <th>2022-01-05</th>\n",
       "      <td>137.774994</td>\n",
       "      <td>311.318756</td>\n",
       "    </tr>\n",
       "    <tr>\n",
       "      <th>2022-01-06</th>\n",
       "      <td>137.747498</td>\n",
       "      <td>308.858765</td>\n",
       "    </tr>\n",
       "    <tr>\n",
       "      <th>2022-01-07</th>\n",
       "      <td>137.016998</td>\n",
       "      <td>309.016174</td>\n",
       "    </tr>\n",
       "  </tbody>\n",
       "</table>\n",
       "</div>"
      ],
      "text/plain": [
       "                 GOOGL        MSFT\n",
       "Date                              \n",
       "2022-01-03  144.991501  329.394897\n",
       "2022-01-04  144.399506  323.746735\n",
       "2022-01-05  137.774994  311.318756\n",
       "2022-01-06  137.747498  308.858765\n",
       "2022-01-07  137.016998  309.016174"
      ]
     },
     "execution_count": 4,
     "metadata": {},
     "output_type": "execute_result"
    }
   ],
   "source": [
    "qts.stock.head()"
   ]
  },
  {
   "cell_type": "markdown",
   "id": "756c2dc6",
   "metadata": {},
   "source": [
    "**obtaining Sharpe ratio from forward function with different ENTRY/EXIT values**"
   ]
  },
  {
   "cell_type": "code",
   "execution_count": 5,
   "id": "6a563249",
   "metadata": {},
   "outputs": [
    {
     "data": {
      "text/plain": [
       "2.728937735336866"
      ]
     },
     "execution_count": 5,
     "metadata": {},
     "output_type": "execute_result"
    }
   ],
   "source": [
    "qts(entry_threshold=2,exit_threshold=1)"
   ]
  },
  {
   "cell_type": "code",
   "execution_count": 6,
   "id": "97d600af",
   "metadata": {},
   "outputs": [
    {
     "data": {
      "text/plain": [
       "3.1377051767216106"
      ]
     },
     "execution_count": 6,
     "metadata": {},
     "output_type": "execute_result"
    }
   ],
   "source": [
    "qts(entry_threshold=1.5,exit_threshold=0.5)"
   ]
  },
  {
   "cell_type": "markdown",
   "id": "ec8b0819",
   "metadata": {},
   "source": [
    "**Generating Training Set for Bayesian OPTIMIZATION**"
   ]
  },
  {
   "cell_type": "code",
   "execution_count": 7,
   "id": "ca765b4f",
   "metadata": {},
   "outputs": [],
   "source": [
    "device=torch.device('cuda' if torch.cuda.is_available() else 'cpu')\n",
    "dtype=torch.double\n",
    "x1_bound=[1,3]\n",
    "x2_bound=[0,1]\n"
   ]
  },
  {
   "cell_type": "code",
   "execution_count": 8,
   "id": "eeb5afc2",
   "metadata": {},
   "outputs": [],
   "source": [
    "def generate_initial_data(n=10):\n",
    "    #generate random initial locations\n",
    "    train_x1=x1_bound[0]+(x1_bound[1]-x1_bound[0])*torch.rand(size=(n,1),device=device, dtype=dtype)\n",
    "    train_x2=torch.rand(size=(n,1),device=device,dtype=dtype)\n",
    "    train_x=torch.cat((train_x1,train_x2),1)\n",
    "    \n",
    "    #obtain the exact value of the objective function and add output dimension\n",
    "    train_y= []\n",
    "    for i in range(len(train_x)):\n",
    "        train_y.append(qts(entry_threshold=train_x1[i],exit_threshold=train_x2[i]))\n",
    "    train_y=torch.Tensor(train_y,device=device).to(dtype).unsqueeze(-1)\n",
    "        \n",
    "        #get the current observed value, i.e, utility of the available dataset\n",
    "    best_observed_value=train_y.max().item()\n",
    "    return train_x,train_y,best_observed_value"
   ]
  },
  {
   "cell_type": "code",
   "execution_count": 9,
   "id": "be3214a6",
   "metadata": {},
   "outputs": [
    {
     "name": "stdout",
     "output_type": "stream",
     "text": [
      "tensor([[1.1221, 0.1771],\n",
      "        [1.4491, 0.5561],\n",
      "        [1.4685, 0.1094]], dtype=torch.float64)\n",
      "tensor([[0.1656],\n",
      "        [2.5359],\n",
      "        [0.5458]], dtype=torch.float64)\n",
      "2.535926580429077\n"
     ]
    }
   ],
   "source": [
    "#Generate 3 samples in the training\n",
    "train_x,train_y,best_observed_value=generate_initial_data(n=3)\n",
    "print(train_x)\n",
    "print(train_y)\n",
    "print(best_observed_value)"
   ]
  },
  {
   "cell_type": "markdown",
   "id": "9dfef6ba",
   "metadata": {},
   "source": [
    "**Implementing the Gaussian Process Model**"
   ]
  },
  {
   "cell_type": "code",
   "execution_count": 10,
   "id": "d5879c48",
   "metadata": {},
   "outputs": [],
   "source": [
    "#initialise GP model\n",
    "from botorch.models import SingleTaskGP\n",
    "from gpytorch.mlls import ExactMarginalLogLikelihood\n",
    "\n",
    "def initialise_model(train_x,train_y):\n",
    "    #create a single-task exact GP model instance\n",
    "    #use a GP prior with Matern kernel and constant mean function by default\n",
    "    model=SingleTaskGP(train_X=train_x,train_Y=train_y)\n",
    "    mll=ExactMarginalLogLikelihood(model.likelihood,model)\n",
    "    return mll, model"
   ]
  },
  {
   "cell_type": "code",
   "execution_count": 11,
   "id": "3ba07217",
   "metadata": {},
   "outputs": [
    {
     "name": "stderr",
     "output_type": "stream",
     "text": [
      "C:\\Users\\DELL\\anaconda3\\envs\\Torch\\lib\\site-packages\\botorch\\models\\utils\\assorted.py:173: InputDataWarning: Input data is not contained to the unit cube. Please consider min-max scaling the input data.\n",
      "  warnings.warn(msg, InputDataWarning)\n",
      "C:\\Users\\DELL\\anaconda3\\envs\\Torch\\lib\\site-packages\\botorch\\models\\utils\\assorted.py:201: InputDataWarning: Input data is not standardized. Please consider scaling the input to zero mean and unit variance.\n",
      "  warnings.warn(msg, InputDataWarning)\n"
     ]
    },
    {
     "data": {
      "text/plain": [
       "[('likelihood.noise_covar.raw_noise',\n",
       "  Parameter containing:\n",
       "  tensor([2.0000], dtype=torch.float64, requires_grad=True)),\n",
       " ('mean_module.raw_constant',\n",
       "  Parameter containing:\n",
       "  tensor(0., dtype=torch.float64, requires_grad=True)),\n",
       " ('covar_module.raw_outputscale',\n",
       "  Parameter containing:\n",
       "  tensor(0., dtype=torch.float64, requires_grad=True)),\n",
       " ('covar_module.base_kernel.raw_lengthscale',\n",
       "  Parameter containing:\n",
       "  tensor([[0., 0.]], dtype=torch.float64, requires_grad=True))]"
      ]
     },
     "execution_count": 11,
     "metadata": {},
     "output_type": "execute_result"
    }
   ],
   "source": [
    "mll,model=initialise_model(train_x,train_y)\n",
    "list(model.named_hyperparameters())"
   ]
  },
  {
   "cell_type": "code",
   "execution_count": 12,
   "id": "370cb7ec",
   "metadata": {
    "scrolled": false
   },
   "outputs": [
    {
     "data": {
      "text/plain": [
       "[('likelihood.noise_covar.raw_noise',\n",
       "  Parameter containing:\n",
       "  tensor([0.4269], dtype=torch.float64, requires_grad=True)),\n",
       " ('mean_module.raw_constant',\n",
       "  Parameter containing:\n",
       "  tensor(1.2187, dtype=torch.float64, requires_grad=True)),\n",
       " ('covar_module.raw_outputscale',\n",
       "  Parameter containing:\n",
       "  tensor(2.2432, dtype=torch.float64, requires_grad=True)),\n",
       " ('covar_module.base_kernel.raw_lengthscale',\n",
       "  Parameter containing:\n",
       "  tensor([[-0.7764, -1.0701]], dtype=torch.float64, requires_grad=True))]"
      ]
     },
     "execution_count": 12,
     "metadata": {},
     "output_type": "execute_result"
    }
   ],
   "source": [
    "#optimize GP hyperparameters\n",
    "from botorch.fit import fit_gpytorch_mll\n",
    "#fit hyperparameters(kernel parameters and noise variance) of a GPytorch model\n",
    "fit_gpytorch_mll(mll.cpu());\n",
    "mll=mll.to(train_x)\n",
    "model=model.to(train_x)\n",
    "\n",
    "list(model.named_hyperparameters())"
   ]
  },
  {
   "cell_type": "markdown",
   "id": "9204bc24",
   "metadata": {},
   "source": [
    "**Guiding the sequential Search by Maximising the Acquisition Function**"
   ]
  },
  {
   "cell_type": "code",
   "execution_count": 13,
   "id": "b9b302e7",
   "metadata": {},
   "outputs": [
    {
     "name": "stderr",
     "output_type": "stream",
     "text": [
      "C:\\Users\\DELL\\anaconda3\\envs\\Torch\\lib\\site-packages\\botorch\\models\\utils\\assorted.py:173: InputDataWarning: Input data is not contained to the unit cube. Please consider min-max scaling the input data.\n",
      "  warnings.warn(msg, InputDataWarning)\n",
      "C:\\Users\\DELL\\anaconda3\\envs\\Torch\\lib\\site-packages\\botorch\\models\\utils\\assorted.py:201: InputDataWarning: Input data is not standardized. Please consider scaling the input to zero mean and unit variance.\n",
      "  warnings.warn(msg, InputDataWarning)\n"
     ]
    }
   ],
   "source": [
    "#define acquisition function\n",
    "from botorch.acquisition import ExpectedImprovement\n",
    "from botorch.acquisition import qExpectedImprovement\n",
    "from botorch.acquisition import UpperConfidenceBound\n",
    "from botorch.acquisition.knowledge_gradient import qKnowledgeGradient\n",
    "\n",
    "#call helper functions to generate initial training data and initialise model\n",
    "train_x,train_y,best_observed_value=generate_initial_data(n=3)\n",
    "train_x_ei=train_x\n",
    "train_x_qei=train_x\n",
    "train_x_ucb=train_x\n",
    "train_x_qkg=train_x\n",
    "train_y_ei=train_y\n",
    "train_y_qei=train_y\n",
    "train_y_ucb=train_y\n",
    "train_y_qkg=train_y\n",
    "\n",
    "mll_ei,model_ei=initialise_model(train_x_ei,train_y_ei)\n",
    "mll_qei,model_qei=initialise_model(train_x_qei,train_y_qei)\n",
    "mll_ucb,model_ucb=initialise_model(train_x_ucb,train_y_ucb)\n",
    "mll_qkg,model_qkg=initialise_model(train_x_qkg,train_y_qkg)\n",
    "\n",
    "EI=ExpectedImprovement(model=model_ei, best_f=best_observed_value)\n",
    "qEI=qExpectedImprovement(model=model_qei, best_f=best_observed_value)\n",
    "beta=0.8\n",
    "UCB=UpperConfidenceBound(model=model_ucb, beta=beta)\n",
    "num_fantasies=64\n",
    "qKG=qKnowledgeGradient(model=model_qkg,num_fantasies=num_fantasies,X_baseline=train_x,q=1)\n"
   ]
  },
  {
   "cell_type": "code",
   "execution_count": 14,
   "id": "95841ec4",
   "metadata": {},
   "outputs": [],
   "source": [
    "#optimize and get new observation\n",
    "from botorch.optim import optimize_acqf\n",
    "\n",
    "#get search bounds\n",
    "bounds=torch.tensor([[x1_bound[0],x2_bound[0]],[x1_bound[1],x2_bound[1]]],device=device, dtype=dtype)\n",
    "\n",
    "#parallel candidate locations generated in each iteration\n",
    "BATCH_SIZE=1\n",
    "\n",
    "#number of starting points for multistart optimisation\n",
    "NUM_RESTARTS=10\n",
    "\n",
    "#number of samples for initialisation\n",
    "RAW_SAMPLES=1024\n",
    "\n",
    "def optimize_acqf_and_get_observation(acq_func):\n",
    "    '''\n",
    "    Optimizes the acquisition function, and returns a new candidate and a noisy observation\n",
    "    '''\n",
    "    #optimize\n",
    "    candidates,value= optimize_acqf(acq_function=acq_func,\n",
    "                                   bounds=bounds,\n",
    "                                   q=BATCH_SIZE,\n",
    "                                   num_restarts=NUM_RESTARTS,\n",
    "                                   raw_samples=RAW_SAMPLES, #used for initialisation heuristic\n",
    "                                   )\n",
    "    #observe new values\n",
    "    new_x=candidates.detach()\n",
    "    #sample output value\n",
    "    new_y=qts(entry_threshold=new_x.squeeze()[0].item(), exit_threshold=new_x.squeeze()[1].item())\n",
    "    #add output dimension\n",
    "    new_y=torch.Tensor([new_y], device=device).to(dtype).unsqueeze(-1)\n",
    "    #print('new fn value:',new_y)\n",
    "    \n",
    "    return new_x,new_y"
   ]
  },
  {
   "cell_type": "code",
   "execution_count": 15,
   "id": "80434250",
   "metadata": {},
   "outputs": [
    {
     "data": {
      "text/plain": [
       "(tensor([[1.6114, 0.5563]], dtype=torch.float64),\n",
       " tensor([[2.8056]], dtype=torch.float64))"
      ]
     },
     "execution_count": 15,
     "metadata": {},
     "output_type": "execute_result"
    }
   ],
   "source": [
    "#Let us test out the function with qKG acquisition function\n",
    "optimize_acqf_and_get_observation(EI)"
   ]
  },
  {
   "cell_type": "code",
   "execution_count": 16,
   "id": "185b3cf0",
   "metadata": {},
   "outputs": [],
   "source": [
    "#test out random searxh strategy which selects a random window length for each moving series at each round\n",
    "\n",
    "def update_random_observations(best_random):\n",
    "    '''\n",
    "    Simulates a random policy by drawing new random points,\n",
    "    observing their values and updating the current best candidate to the running list\n",
    "    '''\n",
    "    new_x1=x1_bound[0] + (x1_bound[1]- x1_bound[0])* torch.rand(size=(1,1), device=device, dtype=dtype)\n",
    "    new_x2=torch.rand(size=(1,1), device=device, dtype=dtype)\n",
    "    new_x=torch.cat((new_x1,new_x2), 1)\n",
    "    new_y=qts(entry_threshold=new_x[0,0].item(), exit_threshold=new_x[0,1].item())\n",
    "    best_random.append(max(best_random[-1],new_y))\n",
    "    return best_random"
   ]
  },
  {
   "cell_type": "markdown",
   "id": "6bac7a2c",
   "metadata": {},
   "source": [
    "**Performing Sequential Search**\n",
    "\n",
    "effective strategy identifies the highest Sharpe ratio faster than alternative strategies under the same environment setting"
   ]
  },
  {
   "cell_type": "code",
   "execution_count": 17,
   "id": "1b05c188",
   "metadata": {
    "scrolled": true
   },
   "outputs": [
    {
     "name": "stderr",
     "output_type": "stream",
     "text": [
      "C:\\Users\\DELL\\anaconda3\\envs\\Torch\\lib\\site-packages\\botorch\\models\\utils\\assorted.py:173: InputDataWarning: Input data is not contained to the unit cube. Please consider min-max scaling the input data.\n",
      "  warnings.warn(msg, InputDataWarning)\n",
      "C:\\Users\\DELL\\anaconda3\\envs\\Torch\\lib\\site-packages\\botorch\\models\\utils\\assorted.py:201: InputDataWarning: Input data is not standardized. Please consider scaling the input to zero mean and unit variance.\n",
      "  warnings.warn(msg, InputDataWarning)\n",
      "C:\\Users\\DELL\\anaconda3\\envs\\Torch\\lib\\site-packages\\botorch\\models\\utils\\assorted.py:173: InputDataWarning: Input data is not contained to the unit cube. Please consider min-max scaling the input data.\n",
      "  warnings.warn(msg, InputDataWarning)\n",
      "C:\\Users\\DELL\\anaconda3\\envs\\Torch\\lib\\site-packages\\botorch\\models\\utils\\assorted.py:201: InputDataWarning: Input data is not standardized. Please consider scaling the input to zero mean and unit variance.\n",
      "  warnings.warn(msg, InputDataWarning)\n",
      "C:\\Users\\DELL\\anaconda3\\envs\\Torch\\lib\\site-packages\\botorch\\models\\utils\\assorted.py:173: InputDataWarning: Input data is not contained to the unit cube. Please consider min-max scaling the input data.\n",
      "  warnings.warn(msg, InputDataWarning)\n",
      "C:\\Users\\DELL\\anaconda3\\envs\\Torch\\lib\\site-packages\\botorch\\models\\utils\\assorted.py:201: InputDataWarning: Input data is not standardized. Please consider scaling the input to zero mean and unit variance.\n",
      "  warnings.warn(msg, InputDataWarning)\n",
      "C:\\Users\\DELL\\anaconda3\\envs\\Torch\\lib\\site-packages\\botorch\\models\\utils\\assorted.py:173: InputDataWarning: Input data is not contained to the unit cube. Please consider min-max scaling the input data.\n",
      "  warnings.warn(msg, InputDataWarning)\n",
      "C:\\Users\\DELL\\anaconda3\\envs\\Torch\\lib\\site-packages\\botorch\\models\\utils\\assorted.py:201: InputDataWarning: Input data is not standardized. Please consider scaling the input to zero mean and unit variance.\n",
      "  warnings.warn(msg, InputDataWarning)\n",
      "C:\\Users\\DELL\\anaconda3\\envs\\Torch\\lib\\site-packages\\botorch\\models\\utils\\assorted.py:173: InputDataWarning: Input data is not contained to the unit cube. Please consider min-max scaling the input data.\n",
      "  warnings.warn(msg, InputDataWarning)\n",
      "C:\\Users\\DELL\\anaconda3\\envs\\Torch\\lib\\site-packages\\botorch\\models\\utils\\assorted.py:201: InputDataWarning: Input data is not standardized. Please consider scaling the input to zero mean and unit variance.\n",
      "  warnings.warn(msg, InputDataWarning)\n",
      "C:\\Users\\DELL\\anaconda3\\envs\\Torch\\lib\\site-packages\\botorch\\models\\utils\\assorted.py:173: InputDataWarning: Input data is not contained to the unit cube. Please consider min-max scaling the input data.\n",
      "  warnings.warn(msg, InputDataWarning)\n",
      "C:\\Users\\DELL\\anaconda3\\envs\\Torch\\lib\\site-packages\\botorch\\models\\utils\\assorted.py:201: InputDataWarning: Input data is not standardized. Please consider scaling the input to zero mean and unit variance.\n",
      "  warnings.warn(msg, InputDataWarning)\n",
      "C:\\Users\\DELL\\anaconda3\\envs\\Torch\\lib\\site-packages\\botorch\\models\\utils\\assorted.py:173: InputDataWarning: Input data is not contained to the unit cube. Please consider min-max scaling the input data.\n",
      "  warnings.warn(msg, InputDataWarning)\n",
      "C:\\Users\\DELL\\anaconda3\\envs\\Torch\\lib\\site-packages\\botorch\\models\\utils\\assorted.py:201: InputDataWarning: Input data is not standardized. Please consider scaling the input to zero mean and unit variance.\n",
      "  warnings.warn(msg, InputDataWarning)\n",
      "C:\\Users\\DELL\\anaconda3\\envs\\Torch\\lib\\site-packages\\botorch\\models\\utils\\assorted.py:173: InputDataWarning: Input data is not contained to the unit cube. Please consider min-max scaling the input data.\n",
      "  warnings.warn(msg, InputDataWarning)\n",
      "C:\\Users\\DELL\\anaconda3\\envs\\Torch\\lib\\site-packages\\botorch\\models\\utils\\assorted.py:201: InputDataWarning: Input data is not standardized. Please consider scaling the input to zero mean and unit variance.\n",
      "  warnings.warn(msg, InputDataWarning)\n",
      "C:\\Users\\DELL\\anaconda3\\envs\\Torch\\lib\\site-packages\\botorch\\models\\utils\\assorted.py:173: InputDataWarning: Input data is not contained to the unit cube. Please consider min-max scaling the input data.\n",
      "  warnings.warn(msg, InputDataWarning)\n",
      "C:\\Users\\DELL\\anaconda3\\envs\\Torch\\lib\\site-packages\\botorch\\models\\utils\\assorted.py:201: InputDataWarning: Input data is not standardized. Please consider scaling the input to zero mean and unit variance.\n",
      "  warnings.warn(msg, InputDataWarning)\n",
      "C:\\Users\\DELL\\anaconda3\\envs\\Torch\\lib\\site-packages\\botorch\\models\\utils\\assorted.py:173: InputDataWarning: Input data is not contained to the unit cube. Please consider min-max scaling the input data.\n",
      "  warnings.warn(msg, InputDataWarning)\n",
      "C:\\Users\\DELL\\anaconda3\\envs\\Torch\\lib\\site-packages\\botorch\\models\\utils\\assorted.py:201: InputDataWarning: Input data is not standardized. Please consider scaling the input to zero mean and unit variance.\n",
      "  warnings.warn(msg, InputDataWarning)\n",
      "C:\\Users\\DELL\\anaconda3\\envs\\Torch\\lib\\site-packages\\botorch\\models\\utils\\assorted.py:173: InputDataWarning: Input data is not contained to the unit cube. Please consider min-max scaling the input data.\n",
      "  warnings.warn(msg, InputDataWarning)\n",
      "C:\\Users\\DELL\\anaconda3\\envs\\Torch\\lib\\site-packages\\botorch\\models\\utils\\assorted.py:201: InputDataWarning: Input data is not standardized. Please consider scaling the input to zero mean and unit variance.\n",
      "  warnings.warn(msg, InputDataWarning)\n",
      "C:\\Users\\DELL\\anaconda3\\envs\\Torch\\lib\\site-packages\\botorch\\models\\utils\\assorted.py:173: InputDataWarning: Input data is not contained to the unit cube. Please consider min-max scaling the input data.\n",
      "  warnings.warn(msg, InputDataWarning)\n",
      "C:\\Users\\DELL\\anaconda3\\envs\\Torch\\lib\\site-packages\\botorch\\models\\utils\\assorted.py:201: InputDataWarning: Input data is not standardized. Please consider scaling the input to zero mean and unit variance.\n",
      "  warnings.warn(msg, InputDataWarning)\n",
      "C:\\Users\\DELL\\anaconda3\\envs\\Torch\\lib\\site-packages\\botorch\\models\\utils\\assorted.py:173: InputDataWarning: Input data is not contained to the unit cube. Please consider min-max scaling the input data.\n",
      "  warnings.warn(msg, InputDataWarning)\n",
      "C:\\Users\\DELL\\anaconda3\\envs\\Torch\\lib\\site-packages\\botorch\\models\\utils\\assorted.py:201: InputDataWarning: Input data is not standardized. Please consider scaling the input to zero mean and unit variance.\n",
      "  warnings.warn(msg, InputDataWarning)\n",
      "C:\\Users\\DELL\\anaconda3\\envs\\Torch\\lib\\site-packages\\botorch\\models\\utils\\assorted.py:173: InputDataWarning: Input data is not contained to the unit cube. Please consider min-max scaling the input data.\n",
      "  warnings.warn(msg, InputDataWarning)\n",
      "C:\\Users\\DELL\\anaconda3\\envs\\Torch\\lib\\site-packages\\botorch\\models\\utils\\assorted.py:201: InputDataWarning: Input data is not standardized. Please consider scaling the input to zero mean and unit variance.\n",
      "  warnings.warn(msg, InputDataWarning)\n",
      "C:\\Users\\DELL\\anaconda3\\envs\\Torch\\lib\\site-packages\\botorch\\optim\\initializers.py:403: BadInitialCandidatesWarning: Unable to find non-zero acquisition function values - initial conditions are being selected randomly.\n",
      "  warnings.warn(\n",
      "C:\\Users\\DELL\\anaconda3\\envs\\Torch\\lib\\site-packages\\botorch\\models\\utils\\assorted.py:173: InputDataWarning: Input data is not contained to the unit cube. Please consider min-max scaling the input data.\n",
      "  warnings.warn(msg, InputDataWarning)\n",
      "C:\\Users\\DELL\\anaconda3\\envs\\Torch\\lib\\site-packages\\botorch\\models\\utils\\assorted.py:201: InputDataWarning: Input data is not standardized. Please consider scaling the input to zero mean and unit variance.\n",
      "  warnings.warn(msg, InputDataWarning)\n",
      "C:\\Users\\DELL\\anaconda3\\envs\\Torch\\lib\\site-packages\\botorch\\models\\utils\\assorted.py:173: InputDataWarning: Input data is not contained to the unit cube. Please consider min-max scaling the input data.\n",
      "  warnings.warn(msg, InputDataWarning)\n",
      "C:\\Users\\DELL\\anaconda3\\envs\\Torch\\lib\\site-packages\\botorch\\models\\utils\\assorted.py:201: InputDataWarning: Input data is not standardized. Please consider scaling the input to zero mean and unit variance.\n",
      "  warnings.warn(msg, InputDataWarning)\n",
      "C:\\Users\\DELL\\anaconda3\\envs\\Torch\\lib\\site-packages\\botorch\\models\\utils\\assorted.py:173: InputDataWarning: Input data is not contained to the unit cube. Please consider min-max scaling the input data.\n",
      "  warnings.warn(msg, InputDataWarning)\n",
      "C:\\Users\\DELL\\anaconda3\\envs\\Torch\\lib\\site-packages\\botorch\\models\\utils\\assorted.py:201: InputDataWarning: Input data is not standardized. Please consider scaling the input to zero mean and unit variance.\n",
      "  warnings.warn(msg, InputDataWarning)\n"
     ]
    },
    {
     "name": "stderr",
     "output_type": "stream",
     "text": [
      "C:\\Users\\DELL\\anaconda3\\envs\\Torch\\lib\\site-packages\\botorch\\models\\utils\\assorted.py:173: InputDataWarning: Input data is not contained to the unit cube. Please consider min-max scaling the input data.\n",
      "  warnings.warn(msg, InputDataWarning)\n",
      "C:\\Users\\DELL\\anaconda3\\envs\\Torch\\lib\\site-packages\\botorch\\models\\utils\\assorted.py:201: InputDataWarning: Input data is not standardized. Please consider scaling the input to zero mean and unit variance.\n",
      "  warnings.warn(msg, InputDataWarning)\n",
      "C:\\Users\\DELL\\anaconda3\\envs\\Torch\\lib\\site-packages\\botorch\\models\\utils\\assorted.py:173: InputDataWarning: Input data is not contained to the unit cube. Please consider min-max scaling the input data.\n",
      "  warnings.warn(msg, InputDataWarning)\n",
      "C:\\Users\\DELL\\anaconda3\\envs\\Torch\\lib\\site-packages\\botorch\\models\\utils\\assorted.py:201: InputDataWarning: Input data is not standardized. Please consider scaling the input to zero mean and unit variance.\n",
      "  warnings.warn(msg, InputDataWarning)\n",
      "C:\\Users\\DELL\\anaconda3\\envs\\Torch\\lib\\site-packages\\botorch\\models\\utils\\assorted.py:173: InputDataWarning: Input data is not contained to the unit cube. Please consider min-max scaling the input data.\n",
      "  warnings.warn(msg, InputDataWarning)\n",
      "C:\\Users\\DELL\\anaconda3\\envs\\Torch\\lib\\site-packages\\botorch\\models\\utils\\assorted.py:201: InputDataWarning: Input data is not standardized. Please consider scaling the input to zero mean and unit variance.\n",
      "  warnings.warn(msg, InputDataWarning)\n"
     ]
    }
   ],
   "source": [
    "##single trial\n",
    "import time\n",
    "N_ROUND=20\n",
    "VERBOSE=True\n",
    "beta=0.8\n",
    "\n",
    "best_random,best_observed_ei,best_observed_qei,best_observed_ucb,best_observed_qkg=[],[],[],[],[]\n",
    "\n",
    "best_random.append(best_observed_value)\n",
    "best_observed_ei.append(best_observed_value)\n",
    "best_observed_qei.append(best_observed_value)\n",
    "best_observed_ucb.append(best_observed_value)\n",
    "best_observed_qkg.append(best_observed_value)\n",
    "\n",
    "#run N_ROUND rounds of BayesOpt after initial random batch\n",
    "for iteration in range(1,N_ROUND+1):\n",
    "    t0=time.monotonic()\n",
    "    #fit the modles\n",
    "    fit_gpytorch_mll(mll_ei)\n",
    "    fit_gpytorch_mll(mll_qei)\n",
    "    fit_gpytorch_mll(mll_ucb)\n",
    "    fit_gpytorch_mll(mll_qkg)\n",
    "    \n",
    "    #for best_f, we use the best observed exact values\n",
    "    EI=ExpectedImprovement(model=model_ei, best_f=train_y_ei.max())\n",
    "    qEI=qExpectedImprovement(model=model_qei,best_f=train_y_qei.max(),num_samples=1024)\n",
    "    UCB=UpperConfidenceBound(model=model_ucb,beta=beta)\n",
    "    qKG=qKnowledgeGradient(model=model_qkg, num_fantasies=64, objective=None, X_baseline=train_x_qkg,)\n",
    "    \n",
    "    #optimise and get new observation\n",
    "    new_x_ei,new_y_ei=optimize_acqf_and_get_observation(EI)\n",
    "    new_x_qei,new_y_qei=optimize_acqf_and_get_observation(qEI)\n",
    "    new_x_ucb,new_y_ucb=optimize_acqf_and_get_observation(UCB)\n",
    "    new_x_qkg,new_y_qkg=optimize_acqf_and_get_observation(qKG)\n",
    "    \n",
    "    #update training points\n",
    "    train_x_ei=torch.cat([train_x_ei,new_x_ei], dim=0)\n",
    "    train_x_qei=torch.cat([train_x_qei, new_x_qei], dim=0)\n",
    "    train_x_ucb=torch.cat([train_x_ucb, new_x_ucb], dim=0)\n",
    "    train_x_qkg=torch.cat([train_x_qkg, new_x_qkg], dim=0)\n",
    "    train_y_ei=torch.cat([train_y_ei, new_y_ei], dim=0)\n",
    "    train_y_qei=torch.cat([train_y_qei, new_y_qei], dim=0)\n",
    "    train_y_ucb=torch.cat([train_y_ucb, new_y_ucb], dim=0)\n",
    "    train_y_qkg=torch.cat([train_y_qkg, new_y_qkg], dim=0)\n",
    "    \n",
    "    #update progress\n",
    "    best_random=update_random_observations(best_random)\n",
    "    best_value_ei=max(best_observed_ei[-1],new_y_ei.item())\n",
    "    best_value_qei=max(best_observed_qei[-1],new_y_qei.item())\n",
    "    best_value_ucb=max(best_observed_ucb[-1],new_y_ucb.item())\n",
    "    best_value_qkg=max(best_observed_qkg[-1],new_y_qkg.item())\n",
    "    \n",
    "    best_observed_ei.append(best_value_ei)\n",
    "    best_observed_qei.append(best_value_qei)\n",
    "    best_observed_ucb.append(best_value_ucb)\n",
    "    best_observed_qkg.append(best_value_qkg)\n",
    "    \n",
    "    #reinitialise the models so they are ready for fitting on the next iteration\n",
    "    mll_ei,model_ei=initialise_model(train_x_ei,train_y_ei)\n",
    "    mll_qei,model_qei=initialise_model(train_x_qei,train_y_qei)\n",
    "    mll_ucb,model_ucb=initialise_model(train_x_ucb,train_y_ucb)\n",
    "    mll_qkg,model_qkg=initialise_model(train_x_qkg,train_y_qkg)\n",
    "    \n",
    "    t1=time.monotonic()"
   ]
  },
  {
   "cell_type": "code",
   "execution_count": 19,
   "id": "7a390442",
   "metadata": {},
   "outputs": [
    {
     "data": {
      "image/png": "[encoded data removed]",
      "text/plain": [
       "<Figure size 640x480 with 1 Axes>"
      ]
     },
     "metadata": {},
     "output_type": "display_data"
    }
   ],
   "source": [
    "iters=np.arange(N_ROUND +1)* BATCH_SIZE\n",
    "plt.plot(iters, best_random, label='random')\n",
    "plt.plot(iters, best_observed_ei, label= 'EI')\n",
    "plt.plot(iters, best_observed_qei, label= 'qEI')\n",
    "plt.plot(iters, best_observed_ucb, label= 'UCB')\n",
    "plt.plot(iters, best_observed_qkg, label= 'qKG')\n",
    "plt.legend()\n",
    "plt.xlabel('Sampling iteration')\n",
    "plt.ylabel('Sharpe ratio')\n",
    "plt.show()"
   ]
  },
  {
   "cell_type": "code",
   "execution_count": null,
   "id": "8f3ff7f3",
   "metadata": {},
   "outputs": [],
   "source": []
  }
 ],
 "metadata": {
  "kernelspec": {
   "display_name": "Python 3 (ipykernel)",
   "language": "python",
   "name": "python3"
  },
  "language_info": {
   "codemirror_mode": {
    "name": "ipython",
    "version": 3
   },
   "file_extension": ".py",
   "mimetype": "text/x-python",
   "name": "python",
   "nbconvert_exporter": "python",
   "pygments_lexer": "ipython3",
   "version": "3.8.17"
  }
 },
 "nbformat": 4,
 "nbformat_minor": 5
}
